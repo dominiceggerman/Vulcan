{
 "cells": [
  {
   "cell_type": "code",
   "execution_count": 1,
   "metadata": {},
   "outputs": [],
   "source": [
    "# By Dominic Eggerman\n",
    "## A look at historic HH forward curve prices"
   ]
  },
  {
   "cell_type": "code",
   "execution_count": 2,
   "metadata": {},
   "outputs": [],
   "source": [
    "# Imports\n",
    "import pandas as pd\n",
    "import numpy as np\n",
    "from datetime import datetime\n",
    "import matplotlib.pyplot as plt\n",
    "import seaborn as sns"
   ]
  },
  {
   "cell_type": "code",
   "execution_count": 3,
   "metadata": {},
   "outputs": [
    {
     "data": {
      "text/html": [
       "<div>\n",
       "<style scoped>\n",
       "    .dataframe tbody tr th:only-of-type {\n",
       "        vertical-align: middle;\n",
       "    }\n",
       "\n",
       "    .dataframe tbody tr th {\n",
       "        vertical-align: top;\n",
       "    }\n",
       "\n",
       "    .dataframe thead th {\n",
       "        text-align: right;\n",
       "    }\n",
       "</style>\n",
       "<table border=\"1\" class=\"dataframe\">\n",
       "  <thead>\n",
       "    <tr style=\"text-align: right;\">\n",
       "      <th></th>\n",
       "      <th>Natural Gas Futures Contract 1 (Dollars per Million Btu)</th>\n",
       "      <th>Natural Gas Futures Contract 2 (Dollars per Million Btu)</th>\n",
       "      <th>Natural Gas Futures Contract 3 (Dollars per Million Btu)</th>\n",
       "      <th>Natural Gas Futures Contract 4 (Dollars per Million Btu)</th>\n",
       "    </tr>\n",
       "    <tr>\n",
       "      <th>Date</th>\n",
       "      <th></th>\n",
       "      <th></th>\n",
       "      <th></th>\n",
       "      <th></th>\n",
       "    </tr>\n",
       "  </thead>\n",
       "  <tbody>\n",
       "    <tr>\n",
       "      <th>2009-10-01</th>\n",
       "      <td>4.47</td>\n",
       "      <td>5.33</td>\n",
       "      <td>5.64</td>\n",
       "      <td>5.70</td>\n",
       "    </tr>\n",
       "    <tr>\n",
       "      <th>2009-10-02</th>\n",
       "      <td>4.72</td>\n",
       "      <td>5.52</td>\n",
       "      <td>5.82</td>\n",
       "      <td>5.87</td>\n",
       "    </tr>\n",
       "    <tr>\n",
       "      <th>2009-10-05</th>\n",
       "      <td>4.99</td>\n",
       "      <td>5.72</td>\n",
       "      <td>6.00</td>\n",
       "      <td>6.04</td>\n",
       "    </tr>\n",
       "    <tr>\n",
       "      <th>2009-10-06</th>\n",
       "      <td>4.88</td>\n",
       "      <td>5.63</td>\n",
       "      <td>5.91</td>\n",
       "      <td>5.96</td>\n",
       "    </tr>\n",
       "    <tr>\n",
       "      <th>2009-10-07</th>\n",
       "      <td>4.90</td>\n",
       "      <td>5.68</td>\n",
       "      <td>5.98</td>\n",
       "      <td>6.03</td>\n",
       "    </tr>\n",
       "  </tbody>\n",
       "</table>\n",
       "</div>"
      ],
      "text/plain": [
       "            Natural Gas Futures Contract 1 (Dollars per Million Btu)  \\\n",
       "Date                                                                   \n",
       "2009-10-01                                               4.47          \n",
       "2009-10-02                                               4.72          \n",
       "2009-10-05                                               4.99          \n",
       "2009-10-06                                               4.88          \n",
       "2009-10-07                                               4.90          \n",
       "\n",
       "            Natural Gas Futures Contract 2 (Dollars per Million Btu)  \\\n",
       "Date                                                                   \n",
       "2009-10-01                                               5.33          \n",
       "2009-10-02                                               5.52          \n",
       "2009-10-05                                               5.72          \n",
       "2009-10-06                                               5.63          \n",
       "2009-10-07                                               5.68          \n",
       "\n",
       "            Natural Gas Futures Contract 3 (Dollars per Million Btu)  \\\n",
       "Date                                                                   \n",
       "2009-10-01                                               5.64          \n",
       "2009-10-02                                               5.82          \n",
       "2009-10-05                                               6.00          \n",
       "2009-10-06                                               5.91          \n",
       "2009-10-07                                               5.98          \n",
       "\n",
       "            Natural Gas Futures Contract 4 (Dollars per Million Btu)  \n",
       "Date                                                                  \n",
       "2009-10-01                                               5.70         \n",
       "2009-10-02                                               5.87         \n",
       "2009-10-05                                               6.04         \n",
       "2009-10-06                                               5.96         \n",
       "2009-10-07                                               6.03         "
      ]
     },
     "execution_count": 3,
     "metadata": {},
     "output_type": "execute_result"
    }
   ],
   "source": [
    "# Obtain data from EIA file\n",
    "df = pd.read_excel(\"EIA HH Data.xls\", sheet_name=\"Future\")\n",
    "\n",
    "# Convert date format and set index\n",
    "df[\"Date\"] = pd.to_datetime(df[\"Date\"])\n",
    "df.set_index(\"Date\", inplace=True)\n",
    "\n",
    "# Take data since October 2009 (arbitrary)\n",
    "df = df[\"10/1/2009\":]\n",
    "\n",
    "df.head()\n",
    "# More to follow"
   ]
  },
  {
   "cell_type": "code",
   "execution_count": 4,
   "metadata": {},
   "outputs": [
    {
     "data": {
      "text/plain": [
       "<matplotlib.axes._subplots.AxesSubplot at 0x15f33ae3ba8>"
      ]
     },
     "execution_count": 4,
     "metadata": {},
     "output_type": "execute_result"
    },
    {
     "data": {
      "image/png": "[encoded data removed]",
      "text/plain": [
       "<Figure size 432x288 with 1 Axes>"
      ]
     },
     "metadata": {},
     "output_type": "display_data"
    }
   ],
   "source": [
    "# Get spot prices\n",
    "spot = pd.read_excel(\"EIA HH Data.xls\", sheet_name=\"Spot\", names=[\"Date\", \"Spot Price\"])\n",
    "spot[\"Date\"] = pd.to_datetime(spot[\"Date\"])\n",
    "spot.set_index(\"Date\", inplace=True)\n",
    "spot = spot[\"4/1/2009\":]\n",
    "\n",
    "# Group and aggregate by month to get a poor man's curve\n",
    "fwd = spot.groupby(by=[spot.index.year, spot.index.month]).mean()\n",
    "fwd.index.set_names([\"Year\", \"Month\"], inplace=True)\n",
    "# Graph this curve\n",
    "spot.plot()"
   ]
  },
  {
   "cell_type": "code",
   "execution_count": 5,
   "metadata": {},
   "outputs": [],
   "source": [
    "# Storage parameters\n",
    "\n",
    "current_inv = 0          # Current inventory\n",
    "lease = 100000           # MMbtu of lease capacity\n",
    "x_limit = 0.15           # % of lease that can be injected during any month\n",
    "w_limit = 0.25           # % of lease that can be withdrawn during any month\n",
    "x_period = range(4, 11)  # Injection months (April - October)"
   ]
  },
  {
   "cell_type": "code",
   "execution_count": 37,
   "metadata": {},
   "outputs": [],
   "source": [
    "# Lease strategy function\n",
    "## Object is to use a forward curve to determine best times to inject and sell gas while remaining within the lease parameters\n",
    "def strat(fwd_curve):\n",
    "    # Split curve into injection and withdrawal months, then sort by price\n",
    "    inj = fwd_curve.iloc[(fwd_curve.index.get_level_values(\"Month\") >= min(x_period)) & (fwd_curve.index.get_level_values(\"Month\") <= max(x_period))]\n",
    "    wit = fwd_curve.iloc[(fwd_curve.index.get_level_values(\"Month\") < min(x_period)) | (fwd_curve.index.get_level_values(\"Month\") > max(x_period))]\n",
    "    inj.sort_values(by=\"Spot Price\", inplace=True)\n",
    "    wit.sort_values(by=\"Spot Price\", inplace=True)\n",
    "    print(inj)\n",
    "    print(wit)\n",
    "#     for m in fwd_curve.index.get_level_values(\"Month\").values:\n",
    "#         print(\"Month: {0}, Inv: {1}\".format(m, current_inv))\n",
    "    fwd_curve.plot()"
   ]
  },
  {
   "cell_type": "code",
   "execution_count": 38,
   "metadata": {},
   "outputs": [
    {
     "name": "stderr",
     "output_type": "stream",
     "text": [
      "C:\\Users\\deggerman\\AppData\\Local\\Continuum\\anaconda3\\lib\\site-packages\\ipykernel_launcher.py:7: SettingWithCopyWarning: \n",
      "A value is trying to be set on a copy of a slice from a DataFrame\n",
      "\n",
      "See the caveats in the documentation: http://pandas.pydata.org/pandas-docs/stable/indexing.html#indexing-view-versus-copy\n",
      "  import sys\n",
      "C:\\Users\\deggerman\\AppData\\Local\\Continuum\\anaconda3\\lib\\site-packages\\ipykernel_launcher.py:8: SettingWithCopyWarning: \n",
      "A value is trying to be set on a copy of a slice from a DataFrame\n",
      "\n",
      "See the caveats in the documentation: http://pandas.pydata.org/pandas-docs/stable/indexing.html#indexing-view-versus-copy\n",
      "  \n"
     ]
    },
    {
     "name": "stdout",
     "output_type": "stream",
     "text": [
      "            Spot Price\n",
      "Year Month            \n",
      "2009 9        2.986667\n",
      "     8        3.140952\n",
      "     7        3.383636\n",
      "     4        3.494762\n",
      "     6        3.800455\n",
      "     5        3.832500\n",
      "     10       4.007727\n",
      "            Spot Price\n",
      "Year Month            \n",
      "2009 11       3.663000\n",
      "2010 3        4.290870\n",
      "     2        5.320000\n",
      "2009 12       5.347727\n",
      "2010 1        5.832105\n"
     ]
    },
    {
     "data": {
      "image/png": "[encoded data removed]",
      "text/plain": [
       "<Figure size 432x288 with 1 Axes>"
      ]
     },
     "metadata": {},
     "output_type": "display_data"
    }
   ],
   "source": [
    "strat(fwd[0:12])"
   ]
  },
  {
   "cell_type": "code",
   "execution_count": null,
   "metadata": {},
   "outputs": [],
   "source": []
  }
 ],
 "metadata": {
  "kernelspec": {
   "display_name": "Python 3",
   "language": "python",
   "name": "python3"
  },
  "language_info": {
   "codemirror_mode": {
    "name": "ipython",
    "version": 3
   },
   "file_extension": ".py",
   "mimetype": "text/x-python",
   "name": "python",
   "nbconvert_exporter": "python",
   "pygments_lexer": "ipython3",
   "version": "3.6.5"
  }
 },
 "nbformat": 4,
 "nbformat_minor": 2
}
